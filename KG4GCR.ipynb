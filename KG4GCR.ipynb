{
  "nbformat": 4,
  "nbformat_minor": 0,
  "metadata": {
    "colab": {
      "name": "KG4GCR.ipynb",
      "provenance": [],
      "collapsed_sections": [],
      "machine_shape": "hm"
    },
    "kernelspec": {
      "name": "python3",
      "display_name": "Python 3"
    }
  },
  "cells": [
    {
      "cell_type": "code",
      "metadata": {
        "id": "xlf3UzFgX85M",
        "colab_type": "code",
        "outputId": "420126db-4f66-4370-e8f4-b8372f52a278",
        "colab": {
          "base_uri": "https://localhost:8080/",
          "height": 530
        }
      },
      "source": [
        "!pip install gensim --user"
      ],
      "execution_count": 0,
      "outputs": [
        {
          "output_type": "stream",
          "text": [
            "Requirement already satisfied: gensim in /usr/local/lib/python3.6/dist-packages (3.6.0)\n",
            "Requirement already satisfied: numpy>=1.11.3 in /usr/local/lib/python3.6/dist-packages (from gensim) (1.18.2)\n",
            "Requirement already satisfied: six>=1.5.0 in /usr/local/lib/python3.6/dist-packages (from gensim) (1.12.0)\n",
            "Requirement already satisfied: smart-open>=1.2.1 in /usr/local/lib/python3.6/dist-packages (from gensim) (1.10.0)\n",
            "Requirement already satisfied: scipy>=0.18.1 in /usr/local/lib/python3.6/dist-packages (from gensim) (1.4.1)\n",
            "Requirement already satisfied: google-cloud-storage in /usr/local/lib/python3.6/dist-packages (from smart-open>=1.2.1->gensim) (1.18.1)\n",
            "Requirement already satisfied: requests in /usr/local/lib/python3.6/dist-packages (from smart-open>=1.2.1->gensim) (2.21.0)\n",
            "Requirement already satisfied: boto3 in /usr/local/lib/python3.6/dist-packages (from smart-open>=1.2.1->gensim) (1.12.27)\n",
            "Requirement already satisfied: google-cloud-core<2.0dev,>=1.0.0 in /usr/local/lib/python3.6/dist-packages (from google-cloud-storage->smart-open>=1.2.1->gensim) (1.0.3)\n",
            "Requirement already satisfied: google-auth>=1.2.0 in /usr/local/lib/python3.6/dist-packages (from google-cloud-storage->smart-open>=1.2.1->gensim) (1.7.2)\n",
            "Requirement already satisfied: google-resumable-media<0.5.0dev,>=0.3.1 in /usr/local/lib/python3.6/dist-packages (from google-cloud-storage->smart-open>=1.2.1->gensim) (0.4.1)\n",
            "Requirement already satisfied: chardet<3.1.0,>=3.0.2 in /usr/local/lib/python3.6/dist-packages (from requests->smart-open>=1.2.1->gensim) (3.0.4)\n",
            "Requirement already satisfied: urllib3<1.25,>=1.21.1 in /usr/local/lib/python3.6/dist-packages (from requests->smart-open>=1.2.1->gensim) (1.24.3)\n",
            "Requirement already satisfied: certifi>=2017.4.17 in /usr/local/lib/python3.6/dist-packages (from requests->smart-open>=1.2.1->gensim) (2019.11.28)\n",
            "Requirement already satisfied: idna<2.9,>=2.5 in /usr/local/lib/python3.6/dist-packages (from requests->smart-open>=1.2.1->gensim) (2.8)\n",
            "Requirement already satisfied: jmespath<1.0.0,>=0.7.1 in /usr/local/lib/python3.6/dist-packages (from boto3->smart-open>=1.2.1->gensim) (0.9.5)\n",
            "Requirement already satisfied: s3transfer<0.4.0,>=0.3.0 in /usr/local/lib/python3.6/dist-packages (from boto3->smart-open>=1.2.1->gensim) (0.3.3)\n",
            "Requirement already satisfied: botocore<1.16.0,>=1.15.27 in /usr/local/lib/python3.6/dist-packages (from boto3->smart-open>=1.2.1->gensim) (1.15.27)\n",
            "Requirement already satisfied: google-api-core<2.0.0dev,>=1.14.0 in /usr/local/lib/python3.6/dist-packages (from google-cloud-core<2.0dev,>=1.0.0->google-cloud-storage->smart-open>=1.2.1->gensim) (1.16.0)\n",
            "Requirement already satisfied: pyasn1-modules>=0.2.1 in /usr/local/lib/python3.6/dist-packages (from google-auth>=1.2.0->google-cloud-storage->smart-open>=1.2.1->gensim) (0.2.8)\n",
            "Requirement already satisfied: cachetools<3.2,>=2.0.0 in /usr/local/lib/python3.6/dist-packages (from google-auth>=1.2.0->google-cloud-storage->smart-open>=1.2.1->gensim) (3.1.1)\n",
            "Requirement already satisfied: rsa<4.1,>=3.1.4 in /usr/local/lib/python3.6/dist-packages (from google-auth>=1.2.0->google-cloud-storage->smart-open>=1.2.1->gensim) (4.0)\n",
            "Requirement already satisfied: setuptools>=40.3.0 in /usr/local/lib/python3.6/dist-packages (from google-auth>=1.2.0->google-cloud-storage->smart-open>=1.2.1->gensim) (46.0.0)\n",
            "Requirement already satisfied: python-dateutil<3.0.0,>=2.1 in /usr/local/lib/python3.6/dist-packages (from botocore<1.16.0,>=1.15.27->boto3->smart-open>=1.2.1->gensim) (2.8.1)\n",
            "Requirement already satisfied: docutils<0.16,>=0.10 in /usr/local/lib/python3.6/dist-packages (from botocore<1.16.0,>=1.15.27->boto3->smart-open>=1.2.1->gensim) (0.15.2)\n",
            "Requirement already satisfied: pytz in /usr/local/lib/python3.6/dist-packages (from google-api-core<2.0.0dev,>=1.14.0->google-cloud-core<2.0dev,>=1.0.0->google-cloud-storage->smart-open>=1.2.1->gensim) (2018.9)\n",
            "Requirement already satisfied: googleapis-common-protos<2.0dev,>=1.6.0 in /usr/local/lib/python3.6/dist-packages (from google-api-core<2.0.0dev,>=1.14.0->google-cloud-core<2.0dev,>=1.0.0->google-cloud-storage->smart-open>=1.2.1->gensim) (1.51.0)\n",
            "Requirement already satisfied: protobuf>=3.4.0 in /usr/local/lib/python3.6/dist-packages (from google-api-core<2.0.0dev,>=1.14.0->google-cloud-core<2.0dev,>=1.0.0->google-cloud-storage->smart-open>=1.2.1->gensim) (3.10.0)\n",
            "Requirement already satisfied: pyasn1<0.5.0,>=0.4.6 in /usr/local/lib/python3.6/dist-packages (from pyasn1-modules>=0.2.1->google-auth>=1.2.0->google-cloud-storage->smart-open>=1.2.1->gensim) (0.4.8)\n"
          ],
          "name": "stdout"
        }
      ]
    },
    {
      "cell_type": "code",
      "metadata": {
        "id": "vFhWxDtiSnPy",
        "colab_type": "code",
        "colab": {}
      },
      "source": [
        "from google.colab import files\n",
        "from google.colab import drive\n",
        "import argparse\n",
        "import gzip, os, csv\n",
        "import numpy as np\n",
        "import random\n",
        "import time\n",
        "import io\n",
        "import gensim\n",
        "\n",
        "## create data structure for knowledge graph\n",
        "def addTriple(net, source, target, edge):\n",
        "    if source in net:\n",
        "        if  target in net[source]:\n",
        "            net[source][target].add(edge)\n",
        "        else:\n",
        "            net[source][target]= set([edge])\n",
        "    else:\n",
        "        net[source]={}\n",
        "        net[source][target] =set([edge])\n",
        "            \n",
        "def getLinks(net, source):\n",
        "    if source not in net:\n",
        "        return {}\n",
        "    return net[source]\n",
        "\n",
        "# Generate paths (entity->relation->entity) by radom walks\n",
        "def randomWalkUniform(triples, startNode, max_depth=5):\n",
        "    next_node =startNode\n",
        "    path = str(startNode)+'->'\n",
        "    for i in range(max_depth):\n",
        "        neighs = getLinks(triples,next_node)\n",
        "        #print (neighs)\n",
        "        if len(neighs) == 0: break\n",
        "        weights = []\n",
        "        queue = []\n",
        "        for neigh in neighs:\n",
        "            for edge in neighs[neigh]:\n",
        "                queue.append((edge,neigh))\n",
        "        edge, next_node = random.choice(queue)\n",
        "        path = path +str(edge)+'->'\n",
        "        path = path +str(next_node)+'->'\n",
        "    path =path.split('->')\n",
        "    return path\n",
        "\n",
        "# Build the knowledge graph structure\n",
        "def preprocess(fname):\n",
        "    triples = {}\n",
        "\n",
        "    ent_counter = 0\n",
        "    rel_counter = 0\n",
        "    train_counter = 0\n",
        "\n",
        "    print (fname)\n",
        "    #gzfile= gzip.open(fname, mode='rt')\n",
        "\n",
        "    for line in csv.reader(open(fname), delimiter='\\t', quotechar='\"'):\n",
        "        #print (line)\n",
        "        h = line[0]\n",
        "        r = line[1]\n",
        "        t = line[2]\n",
        "        \n",
        "        train_counter +=1\n",
        "\n",
        "        addTriple(triples, h, t, r)\n",
        "        train_counter+=1\n",
        "    print ('Triple:',train_counter)\n",
        "    return triples\n",
        "\n",
        "# Randon walk functions\n",
        "def randomNWalkUniform(triples, n, walks, path_depth):\n",
        "    path=[]\n",
        "    for k in range(walks):\n",
        "        walk = randomWalkUniform(triples, n, path_depth)\n",
        "        path.append(walk)\n",
        "    return path"
      ],
      "execution_count": 0,
      "outputs": []
    },
    {
      "cell_type": "code",
      "metadata": {
        "id": "lDpLAotMS1Oc",
        "colab_type": "code",
        "outputId": "156713bf-89f4-40b3-f94c-f172c44d3bca",
        "colab": {
          "base_uri": "https://localhost:8080/",
          "height": 34
        }
      },
      "source": [
        "#file = 'test.nt'\n",
        "#file = files.upload()\n",
        "#file = io.BytesIO('test.nt')\n",
        "\n",
        "drive.mount('/content/drive')\n",
        "\n",
        "\n",
        "\n",
        "#triples = preprocess(/content/drive/)\n",
        "#print(triples)"
      ],
      "execution_count": 18,
      "outputs": [
        {
          "output_type": "stream",
          "text": [
            "Drive already mounted at /content/drive; to attempt to forcibly remount, call drive.mount(\"/content/drive\", force_remount=True).\n"
          ],
          "name": "stdout"
        }
      ]
    },
    {
      "cell_type": "code",
      "metadata": {
        "id": "0djQl_PyWuUh",
        "colab_type": "code",
        "outputId": "06f179dd-d30e-4afa-fc07-f9f5d874d0bf",
        "colab": {
          "base_uri": "https://localhost:8080/",
          "height": 34
        }
      },
      "source": [
        "os.listdir('/content/drive/My Drive/Data/')"
      ],
      "execution_count": 5,
      "outputs": [
        {
          "output_type": "execute_result",
          "data": {
            "text/plain": [
              "['rep_out.nt', 'kg4gcr.nt', 'statements.tsv']"
            ]
          },
          "metadata": {
            "tags": []
          },
          "execution_count": 5
        }
      ]
    },
    {
      "cell_type": "code",
      "metadata": {
        "id": "sNI9GxllW51S",
        "colab_type": "code",
        "outputId": "83086d7e-5c2f-4f36-a7e9-7c40b708b182",
        "colab": {
          "base_uri": "https://localhost:8080/",
          "height": 238
        }
      },
      "source": [
        "triples = preprocess('/content/drive/My Drive/Data/statements.tsv')\n",
        "#print(triples)\n",
        "entities = list(triples.keys())\n",
        "vocabulary = entities\n",
        "print (len(vocabulary))\n",
        "vocabulary[:10]"
      ],
      "execution_count": 19,
      "outputs": [
        {
          "output_type": "stream",
          "text": [
            "/content/drive/My Drive/Data/statements.tsv\n",
            "Triple: 6087512\n",
            "8885\n"
          ],
          "name": "stdout"
        },
        {
          "output_type": "execute_result",
          "data": {
            "text/plain": [
              "['<http://kg4gcr.com/repository/LisaMaatje%2FARS>',\n",
              " '<http://kg4gcr.com/contributor/LisaMaatje>',\n",
              " '<http://kg4gcr.com/contributor/apyspo>',\n",
              " '<http://kg4gcr.com/repository/ytdl-org%2Fyoutube-dl>',\n",
              " '<http://kg4gcr.com/contributor/dstftw>',\n",
              " '<http://kg4gcr.com/contributor/phihag>',\n",
              " '<http://kg4gcr.com/contributor/remitamine>',\n",
              " '<http://kg4gcr.com/contributor/jaimeMF>',\n",
              " '<http://kg4gcr.com/contributor/yan12125>',\n",
              " '<http://kg4gcr.com/contributor/rg3>']"
            ]
          },
          "metadata": {
            "tags": []
          },
          "execution_count": 19
        }
      ]
    },
    {
      "cell_type": "code",
      "metadata": {
        "id": "KxjCVet0XtDW",
        "colab_type": "code",
        "colab": {
          "base_uri": "https://localhost:8080/",
          "height": 34
        },
        "outputId": "eb9cce12-b5ec-4476-f622-0b68ed1404a5"
      },
      "source": [
        "# do randon walks\n",
        "walks = 5000\n",
        "path_depth = 5\n",
        "\n",
        "start_time =time.time()\n",
        "sentences =[]\n",
        "for word in vocabulary:\n",
        "    sentences.extend( randomNWalkUniform(triples, word, walks, path_depth) )\n",
        "elapsed_time = time.time() - start_time\n",
        "print ('Time elapsed to generate features:',time.strftime(\"%H:%M:%S\", time.gmtime(elapsed_time)))"
      ],
      "execution_count": 20,
      "outputs": [
        {
          "output_type": "stream",
          "text": [
            "Time elapsed to generate features: 00:44:06\n"
          ],
          "name": "stdout"
        }
      ]
    },
    {
      "cell_type": "code",
      "metadata": {
        "id": "XQNANlHaXzni",
        "colab_type": "code",
        "outputId": "c5d95735-d5d7-44c3-fb37-0d978f99deee",
        "colab": {
          "base_uri": "https://localhost:8080/",
          "height": 34
        }
      },
      "source": [
        "model1 = gensim.models.Word2Vec(size=100, workers=8, window=5, sg=1, negative=15, iter=5)\n",
        "model1.build_vocab(sentences)\n",
        "corpus_count = model1.corpus_count\n",
        "model1.train(sentences, total_examples = corpus_count, epochs = 5)\n"
      ],
      "execution_count": 21,
      "outputs": [
        {
          "output_type": "execute_result",
          "data": {
            "text/plain": [
              "(478792130, 888889230)"
            ]
          },
          "metadata": {
            "tags": []
          },
          "execution_count": 21
        }
      ]
    },
    {
      "cell_type": "code",
      "metadata": {
        "id": "e0DdxSG_YPgp",
        "colab_type": "code",
        "outputId": "6384079c-c7a4-4d66-f48a-032e231e3575",
        "colab": {
          "base_uri": "https://localhost:8080/",
          "height": 275
        }
      },
      "source": [
        "#model1.save(\"word2vec.model\")\n",
        "#model1.wv.most_similar(positive=['<http://kg4gcr.com/contributor/LisaMaatje>', '<https://www.wikidata.org/wiki/Property:P1327>'])\n",
        "model1.most_similar(positive=['<http://kg4gcr.com/contributor/apyspo>', '<http://kg4gcr.com/contributor/rcelebi>'], negative=['<http://kg4gcr.com/contributor/LisaMaatje>'])\n",
        "#model1.most_similar(positive=['<http://kg4gcr.com/contributor/rcelebi>', '<http://kg4gcr.com/contributor/apyspo>'], negative=['<http://kg4gcr.com/contributor/vemonet>'])\n",
        "\n",
        "\n",
        "#model1.most_similar(positive=['<http://kg4gcr.com/contributor/LisaMaatje>', '<https://www.wikidata.org/wiki/Property:P1327>'], negative=['<http://kg4gcr.com/contributor/apyspo>'])\n",
        "#model1.most_similar(positive=['<http://kg4gcr.com/contributor/rcelebi>', '<https://www.wikidata.org/wiki/Property:P1327>'], negative=['<http://kg4gcr.com/contributor/vemonet>'])"
      ],
      "execution_count": 35,
      "outputs": [
        {
          "output_type": "stream",
          "text": [
            "/usr/local/lib/python3.6/dist-packages/ipykernel_launcher.py:1: DeprecationWarning: Call to deprecated `most_similar` (Method will be removed in 4.0.0, use self.wv.most_similar() instead).\n",
            "  \"\"\"Entry point for launching an IPython kernel.\n",
            "/usr/local/lib/python3.6/dist-packages/gensim/matutils.py:737: FutureWarning: Conversion of the second argument of issubdtype from `int` to `np.signedinteger` is deprecated. In future, it will be treated as `np.int64 == np.dtype(int).type`.\n",
            "  if np.issubdtype(vec.dtype, np.int):\n"
          ],
          "name": "stderr"
        },
        {
          "output_type": "execute_result",
          "data": {
            "text/plain": [
              "[('<http://kg4gcr.com/contributor/vemonet>', 0.966220498085022),\n",
              " ('<http://kg4gcr.com/contributor/ammar257ammar>', 0.9582265019416809),\n",
              " ('<http://kg4gcr.com/contributor/swd543>', 0.9390175342559814),\n",
              " ('<http://kg4gcr.com/contributor/yunfei-shi>', 0.6450794339179993),\n",
              " ('<http://kg4gcr.com/contributor/sty945>', 0.6445444226264954),\n",
              " ('<http://kg4gcr.com/contributor/BrikerMan>', 0.626862108707428),\n",
              " ('https://github.com/jamesstidard', 0.6210993528366089),\n",
              " ('https://github.com/alexallah', 0.6204466819763184),\n",
              " ('https://github.com/erinxocon', 0.6189807653427124),\n",
              " ('https://github.com/reinout', 0.6188479065895081)]"
            ]
          },
          "metadata": {
            "tags": []
          },
          "execution_count": 35
        }
      ]
    },
    {
      "cell_type": "code",
      "metadata": {
        "id": "g7Ayyf-xoFE-",
        "colab_type": "code",
        "outputId": "835dfde0-bb2d-48c5-e6e1-b02704c6fb36",
        "colab": {
          "base_uri": "https://localhost:8080/",
          "height": 34
        }
      },
      "source": [
        ""
      ],
      "execution_count": 31,
      "outputs": [
        {
          "output_type": "stream",
          "text": [
            "-0.07008165\n"
          ],
          "name": "stdout"
        }
      ]
    }
  ]
}